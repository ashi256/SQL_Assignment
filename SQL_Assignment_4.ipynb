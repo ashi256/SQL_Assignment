{
 "cells": [
  {
   "cell_type": "code",
   "execution_count": 2,
   "metadata": {},
   "outputs": [
    {
     "data": {
      "text/plain": [
       "[('employee_table',),\n",
       " ('homework',),\n",
       " ('iiht',),\n",
       " ('information_schema',),\n",
       " ('mysql',),\n",
       " ('performance_schema',),\n",
       " ('sql_assignment',),\n",
       " ('student',),\n",
       " ('sys',)]"
      ]
     },
     "execution_count": 2,
     "metadata": {},
     "output_type": "execute_result"
    }
   ],
   "source": [
    "import mysql.connector as connection\n",
    "conn = connection.connect(host=\"localhost\",user =\"root\",passwd=\"#123Ayushi\",use_pure=True)\n",
    "curr = conn.cursor()\n",
    "curr.execute(\"show databases\")\n",
    "curr.fetchall()"
   ]
  },
  {
   "cell_type": "code",
   "execution_count": 3,
   "metadata": {},
   "outputs": [
    {
     "data": {
      "text/plain": [
       "[('employee_table',),\n",
       " ('homework',),\n",
       " ('iiht',),\n",
       " ('information_schema',),\n",
       " ('mysql',),\n",
       " ('performance_schema',),\n",
       " ('sql_assignment',),\n",
       " ('student',),\n",
       " ('sys',)]"
      ]
     },
     "execution_count": 3,
     "metadata": {},
     "output_type": "execute_result"
    }
   ],
   "source": [
    "curr.execute(\"drop database SQL_Assignment\")\n",
    "curr.execute(\"create database SQL_Assignment\")\n",
    "curr.execute(\"show databases\")\n",
    "curr.fetchall()"
   ]
  },
  {
   "cell_type": "code",
   "execution_count": 4,
   "metadata": {},
   "outputs": [],
   "source": [
    "conn = connection.connect(host=\"localhost\",database = \"sql_assignment\",user =\"root\",passwd=\"#123Ayushi\",use_pure=True)\n",
    "curr=conn.cursor()\n",
    "curr.execute(\"create table worker(first_name varchar(11),last_name varchar(11),worker_id int(11), address varchar(20),department varchar(11),salary int(11),email varchar(20),dt date)\")\n"
   ]
  },
  {
   "cell_type": "code",
   "execution_count": 5,
   "metadata": {},
   "outputs": [],
   "source": [
    "curr.execute(\"insert into worker values('Nelesh','Gupta',1,'vefbbrbwefb','IT',12000,'nil1@gmail.com','2021-06-12'), ('Ayushi   ','Krishna',2,'gvdb','DA',20000,'ayu12@gmail.com','2016-04-22'),('vrinda','sharma',3,'sgdfb','DE',2000,'vinu4@gmail.com','2013-10-10'),('veenita','goel',4,'ags','HR',134500,'vee7@gmsil.com','2014-02-11'),('sandeep','goel',5,'ags','HR',56788,'ss66@gmail.com','2020-03-11'),('Satish','sharma',6,'sgdfb','DE',245800,'sats23@gmail.com','2011-07-09'),('vipul','Garg',7,'vefbbrbwefb','IT',14000,'vip123@gmail.com','2018-09-21')\")"
   ]
  },
  {
   "cell_type": "code",
   "execution_count": 12,
   "metadata": {},
   "outputs": [],
   "source": [
    "conn.commit()\n",
    "curr.execute(\"select * from worker\")"
   ]
  },
  {
   "cell_type": "code",
   "execution_count": 13,
   "metadata": {},
   "outputs": [
    {
     "data": {
      "text/plain": [
       "[('Nelesh',\n",
       "  'Gupta',\n",
       "  1,\n",
       "  'vefbbrbwefb',\n",
       "  'IT',\n",
       "  12000,\n",
       "  'nil1@gmail.com',\n",
       "  datetime.date(2021, 6, 12)),\n",
       " ('Ayushi   ',\n",
       "  'Krishna',\n",
       "  2,\n",
       "  'gvdb',\n",
       "  'DA',\n",
       "  20000,\n",
       "  'ayu12@gmail.com',\n",
       "  datetime.date(2016, 4, 22)),\n",
       " ('vrinda',\n",
       "  'sharma',\n",
       "  3,\n",
       "  'sgdfb',\n",
       "  'DE',\n",
       "  2000,\n",
       "  'vinu4@gmail.com',\n",
       "  datetime.date(2013, 10, 10)),\n",
       " ('veenita',\n",
       "  'goel',\n",
       "  4,\n",
       "  'ags',\n",
       "  'HR',\n",
       "  134500,\n",
       "  'vee7@gmsil.com',\n",
       "  datetime.date(2014, 2, 11)),\n",
       " ('sandeep',\n",
       "  'goel',\n",
       "  5,\n",
       "  'ags',\n",
       "  'HR',\n",
       "  56788,\n",
       "  'ss66@gmail.com',\n",
       "  datetime.date(2020, 3, 11)),\n",
       " ('Satish',\n",
       "  'sharma',\n",
       "  6,\n",
       "  'sgdfb',\n",
       "  'DE',\n",
       "  245800,\n",
       "  'sats23@gmail.com',\n",
       "  datetime.date(2011, 7, 9)),\n",
       " ('vipul',\n",
       "  'Garg',\n",
       "  7,\n",
       "  'vefbbrbwefb',\n",
       "  'IT',\n",
       "  14000,\n",
       "  'vip123@gmail.com',\n",
       "  datetime.date(2018, 9, 21))]"
      ]
     },
     "execution_count": 13,
     "metadata": {},
     "output_type": "execute_result"
    }
   ],
   "source": [
    "curr.fetchall()"
   ]
  },
  {
   "cell_type": "code",
   "execution_count": 19,
   "metadata": {},
   "outputs": [
    {
     "ename": "ProgrammingError",
     "evalue": "1305 (42000): FUNCTION sql_assignment.repalce does not exist",
     "output_type": "error",
     "traceback": [
      "\u001b[1;31m---------------------------------------------------------------------------\u001b[0m",
      "\u001b[1;31mProgrammingError\u001b[0m                          Traceback (most recent call last)",
      "\u001b[1;32m<ipython-input-19-9c100f4c829c>\u001b[0m in \u001b[0;36m<module>\u001b[1;34m\u001b[0m\n\u001b[0;32m      1\u001b[0m \u001b[1;31m#1\u001b[0m\u001b[1;33m\u001b[0m\u001b[1;33m\u001b[0m\u001b[1;33m\u001b[0m\u001b[0m\n\u001b[1;32m----> 2\u001b[1;33m \u001b[0mcurr\u001b[0m\u001b[1;33m.\u001b[0m\u001b[0mexecute\u001b[0m\u001b[1;33m(\u001b[0m\u001b[1;34m\"select repalce('first_name','a','A') from worker\"\u001b[0m\u001b[1;33m)\u001b[0m\u001b[1;33m\u001b[0m\u001b[1;33m\u001b[0m\u001b[0m\n\u001b[0m\u001b[0;32m      3\u001b[0m \u001b[0mcurr\u001b[0m\u001b[1;33m.\u001b[0m\u001b[0mfetchall\u001b[0m\u001b[1;33m(\u001b[0m\u001b[1;33m)\u001b[0m\u001b[1;33m\u001b[0m\u001b[1;33m\u001b[0m\u001b[0m\n",
      "\u001b[1;32m~\\anaconda3\\lib\\site-packages\\mysql\\connector\\cursor.py\u001b[0m in \u001b[0;36mexecute\u001b[1;34m(self, operation, params, multi)\u001b[0m\n\u001b[0;32m    566\u001b[0m \u001b[1;33m\u001b[0m\u001b[0m\n\u001b[0;32m    567\u001b[0m         \u001b[1;32mtry\u001b[0m\u001b[1;33m:\u001b[0m\u001b[1;33m\u001b[0m\u001b[1;33m\u001b[0m\u001b[0m\n\u001b[1;32m--> 568\u001b[1;33m             \u001b[0mself\u001b[0m\u001b[1;33m.\u001b[0m\u001b[0m_handle_result\u001b[0m\u001b[1;33m(\u001b[0m\u001b[0mself\u001b[0m\u001b[1;33m.\u001b[0m\u001b[0m_connection\u001b[0m\u001b[1;33m.\u001b[0m\u001b[0mcmd_query\u001b[0m\u001b[1;33m(\u001b[0m\u001b[0mstmt\u001b[0m\u001b[1;33m)\u001b[0m\u001b[1;33m)\u001b[0m\u001b[1;33m\u001b[0m\u001b[1;33m\u001b[0m\u001b[0m\n\u001b[0m\u001b[0;32m    569\u001b[0m         \u001b[1;32mexcept\u001b[0m \u001b[0merrors\u001b[0m\u001b[1;33m.\u001b[0m\u001b[0mInterfaceError\u001b[0m\u001b[1;33m:\u001b[0m\u001b[1;33m\u001b[0m\u001b[1;33m\u001b[0m\u001b[0m\n\u001b[0;32m    570\u001b[0m             \u001b[1;32mif\u001b[0m \u001b[0mself\u001b[0m\u001b[1;33m.\u001b[0m\u001b[0m_connection\u001b[0m\u001b[1;33m.\u001b[0m\u001b[0m_have_next_result\u001b[0m\u001b[1;33m:\u001b[0m  \u001b[1;31m# pylint: disable=W0212\u001b[0m\u001b[1;33m\u001b[0m\u001b[1;33m\u001b[0m\u001b[0m\n",
      "\u001b[1;32m~\\anaconda3\\lib\\site-packages\\mysql\\connector\\connection.py\u001b[0m in \u001b[0;36mcmd_query\u001b[1;34m(self, query, raw, buffered, raw_as_string)\u001b[0m\n\u001b[0;32m    852\u001b[0m         \u001b[0mquery\u001b[0m \u001b[1;33m=\u001b[0m \u001b[0mbytes\u001b[0m\u001b[1;33m(\u001b[0m\u001b[0mpacket\u001b[0m\u001b[1;33m)\u001b[0m\u001b[1;33m\u001b[0m\u001b[1;33m\u001b[0m\u001b[0m\n\u001b[0;32m    853\u001b[0m         \u001b[1;32mtry\u001b[0m\u001b[1;33m:\u001b[0m\u001b[1;33m\u001b[0m\u001b[1;33m\u001b[0m\u001b[0m\n\u001b[1;32m--> 854\u001b[1;33m             \u001b[0mresult\u001b[0m \u001b[1;33m=\u001b[0m \u001b[0mself\u001b[0m\u001b[1;33m.\u001b[0m\u001b[0m_handle_result\u001b[0m\u001b[1;33m(\u001b[0m\u001b[0mself\u001b[0m\u001b[1;33m.\u001b[0m\u001b[0m_send_cmd\u001b[0m\u001b[1;33m(\u001b[0m\u001b[0mServerCmd\u001b[0m\u001b[1;33m.\u001b[0m\u001b[0mQUERY\u001b[0m\u001b[1;33m,\u001b[0m \u001b[0mquery\u001b[0m\u001b[1;33m)\u001b[0m\u001b[1;33m)\u001b[0m\u001b[1;33m\u001b[0m\u001b[1;33m\u001b[0m\u001b[0m\n\u001b[0m\u001b[0;32m    855\u001b[0m         \u001b[1;32mexcept\u001b[0m \u001b[0merrors\u001b[0m\u001b[1;33m.\u001b[0m\u001b[0mProgrammingError\u001b[0m \u001b[1;32mas\u001b[0m \u001b[0merr\u001b[0m\u001b[1;33m:\u001b[0m\u001b[1;33m\u001b[0m\u001b[1;33m\u001b[0m\u001b[0m\n\u001b[0;32m    856\u001b[0m             \u001b[1;32mif\u001b[0m \u001b[0merr\u001b[0m\u001b[1;33m.\u001b[0m\u001b[0merrno\u001b[0m \u001b[1;33m==\u001b[0m \u001b[1;36m3948\u001b[0m \u001b[1;32mand\u001b[0m\u001b[0;31m \u001b[0m\u001b[0;31m\\\u001b[0m\u001b[1;33m\u001b[0m\u001b[1;33m\u001b[0m\u001b[0m\n",
      "\u001b[1;32m~\\anaconda3\\lib\\site-packages\\mysql\\connector\\connection.py\u001b[0m in \u001b[0;36m_handle_result\u001b[1;34m(self, packet)\u001b[0m\n\u001b[0;32m    662\u001b[0m             \u001b[1;32mreturn\u001b[0m \u001b[0mself\u001b[0m\u001b[1;33m.\u001b[0m\u001b[0m_handle_eof\u001b[0m\u001b[1;33m(\u001b[0m\u001b[0mpacket\u001b[0m\u001b[1;33m)\u001b[0m\u001b[1;33m\u001b[0m\u001b[1;33m\u001b[0m\u001b[0m\n\u001b[0;32m    663\u001b[0m         \u001b[1;32melif\u001b[0m \u001b[0mpacket\u001b[0m\u001b[1;33m[\u001b[0m\u001b[1;36m4\u001b[0m\u001b[1;33m]\u001b[0m \u001b[1;33m==\u001b[0m \u001b[1;36m255\u001b[0m\u001b[1;33m:\u001b[0m\u001b[1;33m\u001b[0m\u001b[1;33m\u001b[0m\u001b[0m\n\u001b[1;32m--> 664\u001b[1;33m             \u001b[1;32mraise\u001b[0m \u001b[0merrors\u001b[0m\u001b[1;33m.\u001b[0m\u001b[0mget_exception\u001b[0m\u001b[1;33m(\u001b[0m\u001b[0mpacket\u001b[0m\u001b[1;33m)\u001b[0m\u001b[1;33m\u001b[0m\u001b[1;33m\u001b[0m\u001b[0m\n\u001b[0m\u001b[0;32m    665\u001b[0m \u001b[1;33m\u001b[0m\u001b[0m\n\u001b[0;32m    666\u001b[0m         \u001b[1;31m# We have a text result set\u001b[0m\u001b[1;33m\u001b[0m\u001b[1;33m\u001b[0m\u001b[1;33m\u001b[0m\u001b[0m\n",
      "\u001b[1;31mProgrammingError\u001b[0m: 1305 (42000): FUNCTION sql_assignment.repalce does not exist"
     ]
    }
   ],
   "source": [
    "#1\n",
    "curr.execute(\"select repalce('first_name','a','A') from worker\")\n",
    "curr.fetchall()"
   ]
  },
  {
   "cell_type": "code",
   "execution_count": 15,
   "metadata": {},
   "outputs": [
    {
     "data": {
      "text/plain": [
       "[('Ayushi   ',\n",
       "  'Krishna',\n",
       "  2,\n",
       "  'gvdb',\n",
       "  'DA',\n",
       "  20000,\n",
       "  'ayu12@gmail.com',\n",
       "  datetime.date(2016, 4, 22)),\n",
       " ('Nelesh',\n",
       "  'Gupta',\n",
       "  1,\n",
       "  'vefbbrbwefb',\n",
       "  'IT',\n",
       "  12000,\n",
       "  'nil1@gmail.com',\n",
       "  datetime.date(2021, 6, 12)),\n",
       " ('sandeep',\n",
       "  'goel',\n",
       "  5,\n",
       "  'ags',\n",
       "  'HR',\n",
       "  56788,\n",
       "  'ss66@gmail.com',\n",
       "  datetime.date(2020, 3, 11)),\n",
       " ('Satish',\n",
       "  'sharma',\n",
       "  6,\n",
       "  'sgdfb',\n",
       "  'DE',\n",
       "  245800,\n",
       "  'sats23@gmail.com',\n",
       "  datetime.date(2011, 7, 9)),\n",
       " ('veenita',\n",
       "  'goel',\n",
       "  4,\n",
       "  'ags',\n",
       "  'HR',\n",
       "  134500,\n",
       "  'vee7@gmsil.com',\n",
       "  datetime.date(2014, 2, 11)),\n",
       " ('vipul',\n",
       "  'Garg',\n",
       "  7,\n",
       "  'vefbbrbwefb',\n",
       "  'IT',\n",
       "  14000,\n",
       "  'vip123@gmail.com',\n",
       "  datetime.date(2018, 9, 21)),\n",
       " ('vrinda',\n",
       "  'sharma',\n",
       "  3,\n",
       "  'sgdfb',\n",
       "  'DE',\n",
       "  2000,\n",
       "  'vinu4@gmail.com',\n",
       "  datetime.date(2013, 10, 10))]"
      ]
     },
     "execution_count": 15,
     "metadata": {},
     "output_type": "execute_result"
    }
   ],
   "source": [
    "#2 there is no one name as amitabh\n",
    "curr.execute(\"select * from worker order by first_name ASC, department DESC\")\n",
    "curr.fetchall()"
   ]
  },
  {
   "cell_type": "code",
   "execution_count": 17,
   "metadata": {},
   "outputs": [
    {
     "data": {
      "text/plain": [
       "[('NeleshGupta', 14000, 'IT'),\n",
       " ('Ayushi   Krishna', 20000, 'DA'),\n",
       " ('vrindasharma', 245800, 'DE'),\n",
       " ('veenitagoel', 134500, 'HR')]"
      ]
     },
     "execution_count": 17,
     "metadata": {},
     "output_type": "execute_result"
    }
   ],
   "source": [
    "#3\n",
    "curr.execute(\"select concat(first_name,last_name),max(salary),department from worker group by department\")\n",
    "curr.fetchall()"
   ]
  },
  {
   "cell_type": "code",
   "execution_count": null,
   "metadata": {},
   "outputs": [],
   "source": []
  }
 ],
 "metadata": {
  "kernelspec": {
   "display_name": "Python 3",
   "language": "python",
   "name": "python3"
  },
  "language_info": {
   "codemirror_mode": {
    "name": "ipython",
    "version": 3
   },
   "file_extension": ".py",
   "mimetype": "text/x-python",
   "name": "python",
   "nbconvert_exporter": "python",
   "pygments_lexer": "ipython3",
   "version": "3.8.5"
  }
 },
 "nbformat": 4,
 "nbformat_minor": 4
}
