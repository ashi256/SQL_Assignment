{
 "cells": [
  {
   "cell_type": "code",
   "execution_count": 11,
   "metadata": {},
   "outputs": [
    {
     "data": {
      "text/plain": [
       "[('employee_table',),\n",
       " ('homework',),\n",
       " ('iiht',),\n",
       " ('information_schema',),\n",
       " ('mysql',),\n",
       " ('performance_schema',),\n",
       " ('sql_assignment',),\n",
       " ('student',),\n",
       " ('sys',)]"
      ]
     },
     "execution_count": 11,
     "metadata": {},
     "output_type": "execute_result"
    }
   ],
   "source": [
    "import mysql.connector as connection\n",
    "conn = connection.connect(host=\"localhost\",user =\"root\",passwd=\"#123Ayushi\",use_pure=True)\n",
    "curr = conn.cursor()\n",
    "curr.execute(\"show databases\")\n",
    "curr.fetchall()"
   ]
  },
  {
   "cell_type": "code",
   "execution_count": 12,
   "metadata": {},
   "outputs": [
    {
     "data": {
      "text/plain": [
       "[('employee_table',),\n",
       " ('homework',),\n",
       " ('iiht',),\n",
       " ('information_schema',),\n",
       " ('mysql',),\n",
       " ('performance_schema',),\n",
       " ('sql_assignment',),\n",
       " ('student',),\n",
       " ('sys',)]"
      ]
     },
     "execution_count": 12,
     "metadata": {},
     "output_type": "execute_result"
    }
   ],
   "source": [
    "curr.execute(\"drop database SQL_Assignment\")\n",
    "curr.execute(\"create database SQL_Assignment\")\n",
    "curr.execute(\"show databases\")\n",
    "curr.fetchall()"
   ]
  },
  {
   "cell_type": "code",
   "execution_count": 13,
   "metadata": {},
   "outputs": [],
   "source": [
    "conn = connection.connect(host=\"localhost\",database = \"sql_assignment\",user =\"root\",passwd=\"#123Ayushi\",use_pure=True)\n",
    "curr=conn.cursor()\n",
    "curr.execute(\"create table worker(first_name varchar(11),last_name varchar(11),worker_id int(11), address varchar(20),department varchar(11),salary int(11),email varchar(20),dt date)\")\n"
   ]
  },
  {
   "cell_type": "code",
   "execution_count": 14,
   "metadata": {},
   "outputs": [],
   "source": [
    "curr.execute(\"insert into worker values('Nelesh','Gupta',1,'vefbbrbwefb','IT',12000,'nil1@gmail.com','2021-06-12'), ('Ayushi   ','Krishna',2,'gvdb','DA',20000,'ayu12@gmail.com','2016-04-22'),('vrinda','sharma',3,'sgdfb','DE',2000,'vinu4@gmail.com','2013-10-10'),('veenita','goel',4,'ags','HR',134500,'vee7@gmsil.com','2014-02-11'),('sandeep','goel',5,'ags','HR',56788,'ss66@gmail.com','2020-03-11'),('Satish','sharma',6,'sgdfb','DE',245800,'sats23@gmail.com','2011-07-09'),('atul','sharma',8,'fweWEF','HR',14000,'attuu123@gmail.com','2019-01-21'),('vipul','Garg',7,'vefbbrbwefb','IT',14000,'vip123@gmail.com','2018-09-21')\")"
   ]
  },
  {
   "cell_type": "code",
   "execution_count": 15,
   "metadata": {},
   "outputs": [],
   "source": [
    "conn.commit()\n"
   ]
  },
  {
   "cell_type": "code",
   "execution_count": 16,
   "metadata": {},
   "outputs": [
    {
     "data": {
      "text/plain": [
       "[('Nelesh',\n",
       "  'Gupta',\n",
       "  1,\n",
       "  'vefbbrbwefb',\n",
       "  'IT',\n",
       "  12000,\n",
       "  'nil1@gmail.com',\n",
       "  datetime.date(2021, 6, 12)),\n",
       " ('vrinda',\n",
       "  'sharma',\n",
       "  3,\n",
       "  'sgdfb',\n",
       "  'DE',\n",
       "  2000,\n",
       "  'vinu4@gmail.com',\n",
       "  datetime.date(2013, 10, 10)),\n",
       " ('sandeep',\n",
       "  'goel',\n",
       "  5,\n",
       "  'ags',\n",
       "  'HR',\n",
       "  56788,\n",
       "  'ss66@gmail.com',\n",
       "  datetime.date(2020, 3, 11)),\n",
       " ('vipul',\n",
       "  'Garg',\n",
       "  7,\n",
       "  'vefbbrbwefb',\n",
       "  'IT',\n",
       "  14000,\n",
       "  'vip123@gmail.com',\n",
       "  datetime.date(2018, 9, 21))]"
      ]
     },
     "execution_count": 16,
     "metadata": {},
     "output_type": "execute_result"
    }
   ],
   "source": [
    "#1\n",
    "curr.execute(\"select * from worker where mod(worker_id,2) <> 0\")\n",
    "curr.fetchall()"
   ]
  },
  {
   "cell_type": "code",
   "execution_count": 17,
   "metadata": {},
   "outputs": [],
   "source": [
    "#2\n",
    "#curr.execute(\"create table new_table like worker\")------just this command will create an empty table\n",
    "curr.execute(\"create table new_table like worker\")\n",
    "curr.execute(\"insert into new_table select * from worker\")"
   ]
  },
  {
   "cell_type": "code",
   "execution_count": 18,
   "metadata": {},
   "outputs": [
    {
     "data": {
      "text/plain": [
       "[('Nelesh',\n",
       "  'Gupta',\n",
       "  1,\n",
       "  'vefbbrbwefb',\n",
       "  'IT',\n",
       "  12000,\n",
       "  'nil1@gmail.com',\n",
       "  datetime.date(2021, 6, 12)),\n",
       " ('Ayushi   ',\n",
       "  'Krishna',\n",
       "  2,\n",
       "  'gvdb',\n",
       "  'DA',\n",
       "  20000,\n",
       "  'ayu12@gmail.com',\n",
       "  datetime.date(2016, 4, 22)),\n",
       " ('vrinda',\n",
       "  'sharma',\n",
       "  3,\n",
       "  'sgdfb',\n",
       "  'DE',\n",
       "  2000,\n",
       "  'vinu4@gmail.com',\n",
       "  datetime.date(2013, 10, 10)),\n",
       " ('veenita',\n",
       "  'goel',\n",
       "  4,\n",
       "  'ags',\n",
       "  'HR',\n",
       "  134500,\n",
       "  'vee7@gmsil.com',\n",
       "  datetime.date(2014, 2, 11)),\n",
       " ('sandeep',\n",
       "  'goel',\n",
       "  5,\n",
       "  'ags',\n",
       "  'HR',\n",
       "  56788,\n",
       "  'ss66@gmail.com',\n",
       "  datetime.date(2020, 3, 11)),\n",
       " ('Satish',\n",
       "  'sharma',\n",
       "  6,\n",
       "  'sgdfb',\n",
       "  'DE',\n",
       "  245800,\n",
       "  'sats23@gmail.com',\n",
       "  datetime.date(2011, 7, 9)),\n",
       " ('atul',\n",
       "  'sharma',\n",
       "  8,\n",
       "  'fweWEF',\n",
       "  'HR',\n",
       "  14000,\n",
       "  'attuu123@gmail.com',\n",
       "  datetime.date(2019, 1, 21)),\n",
       " ('vipul',\n",
       "  'Garg',\n",
       "  7,\n",
       "  'vefbbrbwefb',\n",
       "  'IT',\n",
       "  14000,\n",
       "  'vip123@gmail.com',\n",
       "  datetime.date(2018, 9, 21))]"
      ]
     },
     "execution_count": 18,
     "metadata": {},
     "output_type": "execute_result"
    }
   ],
   "source": [
    "curr.execute(\"select * from new_table\")\n",
    "curr.fetchall()"
   ]
  }
 ],
 "metadata": {
  "kernelspec": {
   "display_name": "Python 3",
   "language": "python",
   "name": "python3"
  },
  "language_info": {
   "codemirror_mode": {
    "name": "ipython",
    "version": 3
   },
   "file_extension": ".py",
   "mimetype": "text/x-python",
   "name": "python",
   "nbconvert_exporter": "python",
   "pygments_lexer": "ipython3",
   "version": "3.8.5"
  }
 },
 "nbformat": 4,
 "nbformat_minor": 4
}
